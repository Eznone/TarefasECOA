{
 "cells": [
  {
   "cell_type": "code",
   "execution_count": 1,
   "metadata": {},
   "outputs": [
    {
     "data": {
      "text/plain": [
       "<module 'processes' from 'f:\\\\VsCode Projects\\\\ECOA\\\\Tarefas\\\\Tarefa 5\\\\processes.py'>"
      ]
     },
     "execution_count": 1,
     "metadata": {},
     "output_type": "execute_result"
    }
   ],
   "source": [
    "%load_ext autoreload\n",
    "%autoreload 2\n",
    "import cv2\n",
    "from matplotlib import pyplot as plt\n",
    "import numpy as np\n",
    "import argparse\n",
    "import math\n",
    "import importlib\n",
    "import processes\n",
    "importlib.reload(processes)"
   ]
  },
  {
   "cell_type": "markdown",
   "metadata": {},
   "source": [
    "Creating Images"
   ]
  },
  {
   "cell_type": "code",
   "execution_count": 2,
   "metadata": {},
   "outputs": [
    {
     "ename": "NameError",
     "evalue": "name 'display_image' is not defined",
     "output_type": "error",
     "traceback": [
      "\u001b[1;31m---------------------------------------------------------------------------\u001b[0m",
      "\u001b[1;31mNameError\u001b[0m                                 Traceback (most recent call last)",
      "Cell \u001b[1;32mIn[2], line 7\u001b[0m\n\u001b[0;32m      4\u001b[0m image \u001b[38;5;241m=\u001b[39m originalImage\u001b[38;5;241m.\u001b[39mcopy()\n\u001b[0;32m      5\u001b[0m template \u001b[38;5;241m=\u001b[39m templateImage\u001b[38;5;241m.\u001b[39mcopy()\n\u001b[1;32m----> 7\u001b[0m \u001b[43mdisplay_image\u001b[49m(image, \u001b[38;5;124m\"\u001b[39m\u001b[38;5;124mOriginal\u001b[39m\u001b[38;5;124m\"\u001b[39m)\n\u001b[0;32m      8\u001b[0m display_image(template, \u001b[38;5;124m\"\u001b[39m\u001b[38;5;124mTemplate\u001b[39m\u001b[38;5;124m\"\u001b[39m)\n\u001b[0;32m      9\u001b[0m w, h \u001b[38;5;241m=\u001b[39m template\u001b[38;5;241m.\u001b[39mshape[::\u001b[38;5;241m-\u001b[39m\u001b[38;5;241m1\u001b[39m]\n",
      "\u001b[1;31mNameError\u001b[0m: name 'display_image' is not defined"
     ]
    }
   ],
   "source": [
    "originalImage = cv2.imread(\"../images/marioGame.png\", cv2.IMREAD_GRAYSCALE)\n",
    "templateImage = cv2.imread(\"../images/coin.png\", cv2.IMREAD_GRAYSCALE)\n",
    "\n",
    "image = originalImage.copy()\n",
    "template = templateImage.copy()\n",
    "\n",
    "display_image(image, \"Original\")\n",
    "display_image(template, \"Template\")\n",
    "w, h = template.shape[::-1]"
   ]
  },
  {
   "cell_type": "markdown",
   "metadata": {},
   "source": [
    "TM_CCOEFF Method"
   ]
  },
  {
   "cell_type": "code",
   "execution_count": 50,
   "metadata": {},
   "outputs": [
    {
     "ename": "NameError",
     "evalue": "name 'original_image' is not defined",
     "output_type": "error",
     "traceback": [
      "\u001b[1;31m---------------------------------------------------------------------------\u001b[0m",
      "\u001b[1;31mNameError\u001b[0m                                 Traceback (most recent call last)",
      "Cell \u001b[1;32mIn[50], line 1\u001b[0m\n\u001b[1;32m----> 1\u001b[0m img \u001b[38;5;241m=\u001b[39m \u001b[43mcreate_border\u001b[49m\u001b[43m(\u001b[49m\u001b[43mimage\u001b[49m\u001b[43m,\u001b[49m\u001b[43m \u001b[49m\u001b[43mtemplate\u001b[49m\u001b[43m)\u001b[49m\n\u001b[0;32m      2\u001b[0m method \u001b[38;5;241m=\u001b[39m \u001b[38;5;28mgetattr\u001b[39m(cv2, \u001b[38;5;124m\"\u001b[39m\u001b[38;5;124mTM_CCOEFF\u001b[39m\u001b[38;5;124m\"\u001b[39m)\n\u001b[0;32m      4\u001b[0m \u001b[38;5;66;03m# Apply template Matching\u001b[39;00m\n",
      "File \u001b[1;32mf:\\VsCode Projects\\ECOA\\Tarefas\\Tarefa 5\\processes.py:168\u001b[0m, in \u001b[0;36mcreate_border\u001b[1;34m(originalImage, templateImage)\u001b[0m\n\u001b[0;32m    165\u001b[0m left_border \u001b[38;5;241m=\u001b[39m \u001b[38;5;28mmax\u001b[39m(\u001b[38;5;241m0\u001b[39m, (template_width \u001b[38;5;241m-\u001b[39m original_width) \u001b[38;5;241m/\u001b[39m\u001b[38;5;241m/\u001b[39m \u001b[38;5;241m2\u001b[39m)\n\u001b[0;32m    166\u001b[0m right_border \u001b[38;5;241m=\u001b[39m \u001b[38;5;28mmax\u001b[39m(\u001b[38;5;241m0\u001b[39m, template_width \u001b[38;5;241m-\u001b[39m original_width \u001b[38;5;241m-\u001b[39m left_border)\n\u001b[1;32m--> 168\u001b[0m bordered_image \u001b[38;5;241m=\u001b[39m cv2\u001b[38;5;241m.\u001b[39mcopyMakeBorder(\n\u001b[0;32m    169\u001b[0m     original_image,\n\u001b[0;32m    170\u001b[0m     top_border,\n\u001b[0;32m    171\u001b[0m     bottom_border,\n\u001b[0;32m    172\u001b[0m     left_border,\n\u001b[0;32m    173\u001b[0m     right_border,\n\u001b[0;32m    174\u001b[0m     borderType\u001b[38;5;241m=\u001b[39mcv2\u001b[38;5;241m.\u001b[39mBORDER_CONSTANT,\n\u001b[0;32m    175\u001b[0m     \u001b[38;5;66;03m# Remember this is in BGR format for blak\u001b[39;00m\n\u001b[0;32m    176\u001b[0m     value\u001b[38;5;241m=\u001b[39m[\u001b[38;5;241m0\u001b[39m, \u001b[38;5;241m0\u001b[39m, \u001b[38;5;241m0\u001b[39m]  \n\u001b[0;32m    177\u001b[0m )\n\u001b[0;32m    179\u001b[0m \u001b[38;5;28;01mreturn\u001b[39;00m bordered_image\n",
      "\u001b[1;31mNameError\u001b[0m: name 'original_image' is not defined"
     ]
    }
   ],
   "source": [
    "img = create_border(image, template)\n",
    "method = getattr(cv2, \"TM_CCOEFF\")\n",
    "\n",
    "# Apply template Matching\n",
    "res = cv2.matchTemplate(img,template,method)\n",
    "min_val, max_val, min_loc, max_loc = cv2.minMaxLoc(res)\n",
    "\n",
    "# If the method is TM_SQDIFF or TM_SQDIFF_NORMED, take minimum\n",
    "top_left = max_loc\n",
    "bottom_right = (top_left[0] + w, top_left[1] + h)\n",
    "\n",
    "cv2.rectangle(img,top_left, bottom_right, 255, 2)\n",
    "\n",
    "plt.subplot(121),plt.imshow(res,cmap = 'gray')\n",
    "plt.title('Matching Result'), plt.xticks([]), plt.yticks([])\n",
    "plt.subplot(122),plt.imshow(img,cmap = 'gray')\n",
    "plt.title('Detected Point'), plt.xticks([]), plt.yticks([])\n",
    "plt.suptitle(\"TM_CCOEFF\")"
   ]
  }
 ],
 "metadata": {
  "kernelspec": {
   "display_name": ".venv",
   "language": "python",
   "name": "python3"
  },
  "language_info": {
   "codemirror_mode": {
    "name": "ipython",
    "version": 3
   },
   "file_extension": ".py",
   "mimetype": "text/x-python",
   "name": "python",
   "nbconvert_exporter": "python",
   "pygments_lexer": "ipython3",
   "version": "3.12.1"
  }
 },
 "nbformat": 4,
 "nbformat_minor": 2
}
